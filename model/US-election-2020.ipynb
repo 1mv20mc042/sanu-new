{
 "cells": [
  {
   "cell_type": "code",
   "execution_count": 1,
   "metadata": {},
   "outputs": [
    {
     "name": "stderr",
     "output_type": "stream",
     "text": [
      "C:\\Users\\jpinf\\Anaconda3\\lib\\site-packages\\numpy\\_distributor_init.py:32: UserWarning: loaded more than 1 DLL from .libs:\n",
      "C:\\Users\\jpinf\\Anaconda3\\lib\\site-packages\\numpy\\.libs\\libopenblas.PYQHXLVVQ7VESDPUVUADXEVJOBGHJPAY.gfortran-win_amd64.dll\n",
      "C:\\Users\\jpinf\\Anaconda3\\lib\\site-packages\\numpy\\.libs\\libopenblas.WCDJNK7YVMPZQ2ME2ZZHJJRJ3JIKNDB7.gfortran-win_amd64.dll\n",
      "  stacklevel=1)\n",
      "In C:\\Users\\jpinf\\Anaconda3\\lib\\site-packages\\matplotlib\\mpl-data\\stylelib\\_classic_test.mplstyle: \n",
      "The text.latex.unicode rcparam was deprecated in Matplotlib 3.0 and will be removed in 3.2.\n",
      "In C:\\Users\\jpinf\\Anaconda3\\lib\\site-packages\\matplotlib\\mpl-data\\stylelib\\_classic_test.mplstyle: \n",
      "The savefig.frameon rcparam was deprecated in Matplotlib 3.1 and will be removed in 3.3.\n",
      "In C:\\Users\\jpinf\\Anaconda3\\lib\\site-packages\\matplotlib\\mpl-data\\stylelib\\_classic_test.mplstyle: \n",
      "The pgf.debug rcparam was deprecated in Matplotlib 3.0 and will be removed in 3.2.\n",
      "In C:\\Users\\jpinf\\Anaconda3\\lib\\site-packages\\matplotlib\\mpl-data\\stylelib\\_classic_test.mplstyle: \n",
      "The verbose.level rcparam was deprecated in Matplotlib 3.1 and will be removed in 3.3.\n",
      "In C:\\Users\\jpinf\\Anaconda3\\lib\\site-packages\\matplotlib\\mpl-data\\stylelib\\_classic_test.mplstyle: \n",
      "The verbose.fileo rcparam was deprecated in Matplotlib 3.1 and will be removed in 3.3.\n"
     ]
    }
   ],
   "source": [
    "import numpy as np\n",
    "import pandas as pd\n",
    "import matplotlib.pyplot as plt\n",
    "import seaborn as sns\n",
    "from textblob import TextBlob\n"
   ]
  },
  {
   "cell_type": "code",
   "execution_count": 2,
   "metadata": {},
   "outputs": [],
   "source": [
    "Trump_reviews = pd.read_csv('data/trump_data.csv',index_col=0)\n",
    "Biden_reviews = pd.read_csv('data/biden_data.csv',index_col=0)\n"
   ]
  },
  {
   "cell_type": "code",
   "execution_count": 3,
   "metadata": {},
   "outputs": [
    {
     "data": {
      "text/html": [
       "<div>\n",
       "<style scoped>\n",
       "    .dataframe tbody tr th:only-of-type {\n",
       "        vertical-align: middle;\n",
       "    }\n",
       "\n",
       "    .dataframe tbody tr th {\n",
       "        vertical-align: top;\n",
       "    }\n",
       "\n",
       "    .dataframe thead th {\n",
       "        text-align: right;\n",
       "    }\n",
       "</style>\n",
       "<table border=\"1\" class=\"dataframe\">\n",
       "  <thead>\n",
       "    <tr style=\"text-align: right;\">\n",
       "      <th></th>\n",
       "      <th>text</th>\n",
       "      <th>user</th>\n",
       "    </tr>\n",
       "  </thead>\n",
       "  <tbody>\n",
       "    <tr>\n",
       "      <th>0</th>\n",
       "      <td>RT @itsJeffTiedrich: @realDonaldTrump imagine ...</td>\n",
       "      <td>NikKimmy</td>\n",
       "    </tr>\n",
       "    <tr>\n",
       "      <th>1</th>\n",
       "      <td>@realDonaldTrump https://t.co/qsPFJUGc6d</td>\n",
       "      <td>grandda20593882</td>\n",
       "    </tr>\n",
       "    <tr>\n",
       "      <th>2</th>\n",
       "      <td>@realDonaldTrump What the hell are you talking...</td>\n",
       "      <td>DrKweku</td>\n",
       "    </tr>\n",
       "    <tr>\n",
       "      <th>3</th>\n",
       "      <td>@realDonaldTrump @cspan Joe Biden’s town hall-...</td>\n",
       "      <td>MelieVMelieV</td>\n",
       "    </tr>\n",
       "    <tr>\n",
       "      <th>4</th>\n",
       "      <td>@realDonaldTrump only follows 50 people on Twi...</td>\n",
       "      <td>Yamnek</td>\n",
       "    </tr>\n",
       "  </tbody>\n",
       "</table>\n",
       "</div>"
      ],
      "text/plain": [
       "                                                text             user\n",
       "0  RT @itsJeffTiedrich: @realDonaldTrump imagine ...         NikKimmy\n",
       "1           @realDonaldTrump https://t.co/qsPFJUGc6d  grandda20593882\n",
       "2  @realDonaldTrump What the hell are you talking...          DrKweku\n",
       "3  @realDonaldTrump @cspan Joe Biden’s town hall-...     MelieVMelieV\n",
       "4  @realDonaldTrump only follows 50 people on Twi...           Yamnek"
      ]
     },
     "execution_count": 3,
     "metadata": {},
     "output_type": "execute_result"
    }
   ],
   "source": [
    "Trump_reviews.head()\n",
    "#Biden_reviews.head()"
   ]
  },
  {
   "cell_type": "code",
   "execution_count": 4,
   "metadata": {},
   "outputs": [
    {
     "data": {
      "text/plain": [
       "'RT @itsJeffTiedrich: @realDonaldTrump imagine a Republican incumbent having to waste time and resources in deeply-red Georgia two weeks bef…'"
      ]
     },
     "execution_count": 4,
     "metadata": {},
     "output_type": "execute_result"
    }
   ],
   "source": [
    "Trump_reviews['text'][25]"
   ]
  },
  {
   "cell_type": "code",
   "execution_count": 5,
   "metadata": {},
   "outputs": [
    {
     "data": {
      "text/plain": [
       "'@JoeBiden Right but I feel like nobody making more than that will either'"
      ]
     },
     "execution_count": 5,
     "metadata": {},
     "output_type": "execute_result"
    }
   ],
   "source": [
    "Biden_reviews['text'][500]"
   ]
  },
  {
   "cell_type": "code",
   "execution_count": 6,
   "metadata": {},
   "outputs": [
    {
     "data": {
      "text/plain": [
       "Sentiment(polarity=-0.2, subjectivity=0.0)"
      ]
     },
     "execution_count": 6,
     "metadata": {},
     "output_type": "execute_result"
    }
   ],
   "source": [
    "TextBlob(Trump_reviews['text'][25]).sentiment"
   ]
  },
  {
   "cell_type": "code",
   "execution_count": 7,
   "metadata": {},
   "outputs": [
    {
     "data": {
      "text/plain": [
       "Sentiment(polarity=0.39285714285714285, subjectivity=0.5178571428571428)"
      ]
     },
     "execution_count": 7,
     "metadata": {},
     "output_type": "execute_result"
    }
   ],
   "source": [
    "TextBlob(Biden_reviews['text'][500]).sentiment"
   ]
  },
  {
   "cell_type": "code",
   "execution_count": 8,
   "metadata": {},
   "outputs": [],
   "source": [
    "def polarity(review):\n",
    "    return TextBlob(review).sentiment.polarity"
   ]
  },
  {
   "cell_type": "code",
   "execution_count": 9,
   "metadata": {},
   "outputs": [],
   "source": [
    "Trump_reviews['polarity'] = Trump_reviews['text'].apply(polarity)\n",
    "Biden_reviews['polarity'] = Biden_reviews['text'].apply(polarity)"
   ]
  },
  {
   "cell_type": "code",
   "execution_count": 10,
   "metadata": {},
   "outputs": [
    {
     "data": {
      "text/html": [
       "<div>\n",
       "<style scoped>\n",
       "    .dataframe tbody tr th:only-of-type {\n",
       "        vertical-align: middle;\n",
       "    }\n",
       "\n",
       "    .dataframe tbody tr th {\n",
       "        vertical-align: top;\n",
       "    }\n",
       "\n",
       "    .dataframe thead th {\n",
       "        text-align: right;\n",
       "    }\n",
       "</style>\n",
       "<table border=\"1\" class=\"dataframe\">\n",
       "  <thead>\n",
       "    <tr style=\"text-align: right;\">\n",
       "      <th></th>\n",
       "      <th>text</th>\n",
       "      <th>user</th>\n",
       "      <th>polarity</th>\n",
       "    </tr>\n",
       "  </thead>\n",
       "  <tbody>\n",
       "    <tr>\n",
       "      <th>0</th>\n",
       "      <td>RT @itsJeffTiedrich: @realDonaldTrump imagine ...</td>\n",
       "      <td>NikKimmy</td>\n",
       "      <td>-0.200000</td>\n",
       "    </tr>\n",
       "    <tr>\n",
       "      <th>1</th>\n",
       "      <td>@realDonaldTrump https://t.co/qsPFJUGc6d</td>\n",
       "      <td>grandda20593882</td>\n",
       "      <td>0.000000</td>\n",
       "    </tr>\n",
       "    <tr>\n",
       "      <th>2</th>\n",
       "      <td>@realDonaldTrump What the hell are you talking...</td>\n",
       "      <td>DrKweku</td>\n",
       "      <td>0.000000</td>\n",
       "    </tr>\n",
       "    <tr>\n",
       "      <th>3</th>\n",
       "      <td>@realDonaldTrump @cspan Joe Biden’s town hall-...</td>\n",
       "      <td>MelieVMelieV</td>\n",
       "      <td>0.000000</td>\n",
       "    </tr>\n",
       "    <tr>\n",
       "      <th>4</th>\n",
       "      <td>@realDonaldTrump only follows 50 people on Twi...</td>\n",
       "      <td>Yamnek</td>\n",
       "      <td>0.066667</td>\n",
       "    </tr>\n",
       "  </tbody>\n",
       "</table>\n",
       "</div>"
      ],
      "text/plain": [
       "                                                text             user  \\\n",
       "0  RT @itsJeffTiedrich: @realDonaldTrump imagine ...         NikKimmy   \n",
       "1           @realDonaldTrump https://t.co/qsPFJUGc6d  grandda20593882   \n",
       "2  @realDonaldTrump What the hell are you talking...          DrKweku   \n",
       "3  @realDonaldTrump @cspan Joe Biden’s town hall-...     MelieVMelieV   \n",
       "4  @realDonaldTrump only follows 50 people on Twi...           Yamnek   \n",
       "\n",
       "   polarity  \n",
       "0 -0.200000  \n",
       "1  0.000000  \n",
       "2  0.000000  \n",
       "3  0.000000  \n",
       "4  0.066667  "
      ]
     },
     "execution_count": 10,
     "metadata": {},
     "output_type": "execute_result"
    }
   ],
   "source": [
    "Trump_reviews.head()"
   ]
  },
  {
   "cell_type": "code",
   "execution_count": 11,
   "metadata": {},
   "outputs": [
    {
     "data": {
      "text/html": [
       "<div>\n",
       "<style scoped>\n",
       "    .dataframe tbody tr th:only-of-type {\n",
       "        vertical-align: middle;\n",
       "    }\n",
       "\n",
       "    .dataframe tbody tr th {\n",
       "        vertical-align: top;\n",
       "    }\n",
       "\n",
       "    .dataframe thead th {\n",
       "        text-align: right;\n",
       "    }\n",
       "</style>\n",
       "<table border=\"1\" class=\"dataframe\">\n",
       "  <thead>\n",
       "    <tr style=\"text-align: right;\">\n",
       "      <th></th>\n",
       "      <th>text</th>\n",
       "      <th>user</th>\n",
       "      <th>polarity</th>\n",
       "    </tr>\n",
       "  </thead>\n",
       "  <tbody>\n",
       "    <tr>\n",
       "      <th>0</th>\n",
       "      <td>RT @Auxyan: @JoeBiden Like the other Communist...</td>\n",
       "      <td>Auxyan</td>\n",
       "      <td>0.021875</td>\n",
       "    </tr>\n",
       "    <tr>\n",
       "      <th>1</th>\n",
       "      <td>@JoeBiden Like the other Communist Dictators o...</td>\n",
       "      <td>Auxyan</td>\n",
       "      <td>0.021875</td>\n",
       "    </tr>\n",
       "    <tr>\n",
       "      <th>2</th>\n",
       "      <td>@JoeBiden How about a statement of Hunter's co...</td>\n",
       "      <td>DenisKaluku</td>\n",
       "      <td>-0.250000</td>\n",
       "    </tr>\n",
       "    <tr>\n",
       "      <th>3</th>\n",
       "      <td>@JoeBiden https://t.co/pwuhRa1Bv8</td>\n",
       "      <td>CM23623745</td>\n",
       "      <td>0.000000</td>\n",
       "    </tr>\n",
       "    <tr>\n",
       "      <th>4</th>\n",
       "      <td>@JoeBiden https://t.co/KnpHIfa2xr</td>\n",
       "      <td>nosnevel</td>\n",
       "      <td>0.000000</td>\n",
       "    </tr>\n",
       "  </tbody>\n",
       "</table>\n",
       "</div>"
      ],
      "text/plain": [
       "                                                text         user  polarity\n",
       "0  RT @Auxyan: @JoeBiden Like the other Communist...       Auxyan  0.021875\n",
       "1  @JoeBiden Like the other Communist Dictators o...       Auxyan  0.021875\n",
       "2  @JoeBiden How about a statement of Hunter's co...  DenisKaluku -0.250000\n",
       "3                  @JoeBiden https://t.co/pwuhRa1Bv8   CM23623745  0.000000\n",
       "4                  @JoeBiden https://t.co/KnpHIfa2xr     nosnevel  0.000000"
      ]
     },
     "execution_count": 11,
     "metadata": {},
     "output_type": "execute_result"
    }
   ],
   "source": [
    "Biden_reviews.head()"
   ]
  },
  {
   "cell_type": "code",
   "execution_count": 12,
   "metadata": {},
   "outputs": [
    {
     "data": {
      "text/html": [
       "<div>\n",
       "<style scoped>\n",
       "    .dataframe tbody tr th:only-of-type {\n",
       "        vertical-align: middle;\n",
       "    }\n",
       "\n",
       "    .dataframe tbody tr th {\n",
       "        vertical-align: top;\n",
       "    }\n",
       "\n",
       "    .dataframe thead th {\n",
       "        text-align: right;\n",
       "    }\n",
       "</style>\n",
       "<table border=\"1\" class=\"dataframe\">\n",
       "  <thead>\n",
       "    <tr style=\"text-align: right;\">\n",
       "      <th></th>\n",
       "      <th>text</th>\n",
       "      <th>user</th>\n",
       "      <th>polarity</th>\n",
       "      <th>Expression</th>\n",
       "    </tr>\n",
       "  </thead>\n",
       "  <tbody>\n",
       "    <tr>\n",
       "      <th>0</th>\n",
       "      <td>RT @itsJeffTiedrich: @realDonaldTrump imagine ...</td>\n",
       "      <td>NikKimmy</td>\n",
       "      <td>-0.200000</td>\n",
       "      <td>Negative</td>\n",
       "    </tr>\n",
       "    <tr>\n",
       "      <th>1</th>\n",
       "      <td>@realDonaldTrump https://t.co/qsPFJUGc6d</td>\n",
       "      <td>grandda20593882</td>\n",
       "      <td>0.000000</td>\n",
       "      <td>Netural</td>\n",
       "    </tr>\n",
       "    <tr>\n",
       "      <th>2</th>\n",
       "      <td>@realDonaldTrump What the hell are you talking...</td>\n",
       "      <td>DrKweku</td>\n",
       "      <td>0.000000</td>\n",
       "      <td>Netural</td>\n",
       "    </tr>\n",
       "    <tr>\n",
       "      <th>3</th>\n",
       "      <td>@realDonaldTrump @cspan Joe Biden’s town hall-...</td>\n",
       "      <td>MelieVMelieV</td>\n",
       "      <td>0.000000</td>\n",
       "      <td>Netural</td>\n",
       "    </tr>\n",
       "    <tr>\n",
       "      <th>4</th>\n",
       "      <td>@realDonaldTrump only follows 50 people on Twi...</td>\n",
       "      <td>Yamnek</td>\n",
       "      <td>0.066667</td>\n",
       "      <td>Positive</td>\n",
       "    </tr>\n",
       "  </tbody>\n",
       "</table>\n",
       "</div>"
      ],
      "text/plain": [
       "                                                text             user  \\\n",
       "0  RT @itsJeffTiedrich: @realDonaldTrump imagine ...         NikKimmy   \n",
       "1           @realDonaldTrump https://t.co/qsPFJUGc6d  grandda20593882   \n",
       "2  @realDonaldTrump What the hell are you talking...          DrKweku   \n",
       "3  @realDonaldTrump @cspan Joe Biden’s town hall-...     MelieVMelieV   \n",
       "4  @realDonaldTrump only follows 50 people on Twi...           Yamnek   \n",
       "\n",
       "   polarity Expression  \n",
       "0 -0.200000   Negative  \n",
       "1  0.000000    Netural  \n",
       "2  0.000000    Netural  \n",
       "3  0.000000    Netural  \n",
       "4  0.066667   Positive  "
      ]
     },
     "execution_count": 12,
     "metadata": {},
     "output_type": "execute_result"
    }
   ],
   "source": [
    "Trump_reviews['Expression'] = np.where(Trump_reviews['polarity']>0,'Positive','Negative')\n",
    "Trump_reviews.loc[Trump_reviews.polarity == 0, 'Expression'] = 'Netural'\n",
    "Trump_reviews.head()"
   ]
  },
  {
   "cell_type": "code",
   "execution_count": 13,
   "metadata": {},
   "outputs": [
    {
     "data": {
      "text/html": [
       "<div>\n",
       "<style scoped>\n",
       "    .dataframe tbody tr th:only-of-type {\n",
       "        vertical-align: middle;\n",
       "    }\n",
       "\n",
       "    .dataframe tbody tr th {\n",
       "        vertical-align: top;\n",
       "    }\n",
       "\n",
       "    .dataframe thead th {\n",
       "        text-align: right;\n",
       "    }\n",
       "</style>\n",
       "<table border=\"1\" class=\"dataframe\">\n",
       "  <thead>\n",
       "    <tr style=\"text-align: right;\">\n",
       "      <th></th>\n",
       "      <th>text</th>\n",
       "      <th>user</th>\n",
       "      <th>polarity</th>\n",
       "      <th>Expression</th>\n",
       "    </tr>\n",
       "  </thead>\n",
       "  <tbody>\n",
       "    <tr>\n",
       "      <th>0</th>\n",
       "      <td>RT @Auxyan: @JoeBiden Like the other Communist...</td>\n",
       "      <td>Auxyan</td>\n",
       "      <td>0.021875</td>\n",
       "      <td>Positive</td>\n",
       "    </tr>\n",
       "    <tr>\n",
       "      <th>1</th>\n",
       "      <td>@JoeBiden Like the other Communist Dictators o...</td>\n",
       "      <td>Auxyan</td>\n",
       "      <td>0.021875</td>\n",
       "      <td>Positive</td>\n",
       "    </tr>\n",
       "    <tr>\n",
       "      <th>2</th>\n",
       "      <td>@JoeBiden How about a statement of Hunter's co...</td>\n",
       "      <td>DenisKaluku</td>\n",
       "      <td>-0.250000</td>\n",
       "      <td>Negative</td>\n",
       "    </tr>\n",
       "    <tr>\n",
       "      <th>3</th>\n",
       "      <td>@JoeBiden https://t.co/pwuhRa1Bv8</td>\n",
       "      <td>CM23623745</td>\n",
       "      <td>0.000000</td>\n",
       "      <td>Netural</td>\n",
       "    </tr>\n",
       "    <tr>\n",
       "      <th>4</th>\n",
       "      <td>@JoeBiden https://t.co/KnpHIfa2xr</td>\n",
       "      <td>nosnevel</td>\n",
       "      <td>0.000000</td>\n",
       "      <td>Netural</td>\n",
       "    </tr>\n",
       "  </tbody>\n",
       "</table>\n",
       "</div>"
      ],
      "text/plain": [
       "                                                text         user  polarity  \\\n",
       "0  RT @Auxyan: @JoeBiden Like the other Communist...       Auxyan  0.021875   \n",
       "1  @JoeBiden Like the other Communist Dictators o...       Auxyan  0.021875   \n",
       "2  @JoeBiden How about a statement of Hunter's co...  DenisKaluku -0.250000   \n",
       "3                  @JoeBiden https://t.co/pwuhRa1Bv8   CM23623745  0.000000   \n",
       "4                  @JoeBiden https://t.co/KnpHIfa2xr     nosnevel  0.000000   \n",
       "\n",
       "  Expression  \n",
       "0   Positive  \n",
       "1   Positive  \n",
       "2   Negative  \n",
       "3    Netural  \n",
       "4    Netural  "
      ]
     },
     "execution_count": 13,
     "metadata": {},
     "output_type": "execute_result"
    }
   ],
   "source": [
    "Biden_reviews['Expression'] = np.where(Biden_reviews['polarity']>0,'Positive','Negative')\n",
    "Biden_reviews.loc[Biden_reviews.polarity == 0, 'Expression'] = 'Netural'\n",
    "Biden_reviews.head()"
   ]
  },
  {
   "cell_type": "code",
   "execution_count": 14,
   "metadata": {
    "scrolled": true
   },
   "outputs": [],
   "source": [
    "def exp_graph(reviews,title):   \n",
    "    group = reviews.groupby('Expression').count()\n",
    "    Pol_count = list(group['polarity'])\n",
    "    Exp = list(group.index)\n",
    "\n",
    "    group_list = list(zip(Pol_count,Exp))\n",
    "\n",
    "    df = pd.DataFrame(group_list, columns=['Pol_count','Exp'])\n",
    "\n",
    "    df['color'] = 'rgb(14,185,54)'\n",
    "    df.loc[df.Exp == 'Netural', 'color'] = 'rgb(18,29,31)'\n",
    "    df.loc[df.Exp == 'Negative', 'color'] = 'rgb(206,31,31)'\n",
    "    \n",
    "    go.Figure(go.Bar(x=df['Pol_count'],\n",
    "                    y=df['Exp'],orientation='h',\n",
    "                    marker={'color':df['color']})).update_layout(title_text=title).show()"
   ]
  },
  {
   "cell_type": "code",
   "execution_count": 15,
   "metadata": {},
   "outputs": [
    {
     "data": {
      "text/plain": [
       "(5901, 4)"
      ]
     },
     "execution_count": 15,
     "metadata": {},
     "output_type": "execute_result"
    }
   ],
   "source": [
    "Trump_reviews[Trump_reviews['polarity']==0].shape"
   ]
  },
  {
   "cell_type": "code",
   "execution_count": 16,
   "metadata": {},
   "outputs": [
    {
     "data": {
      "text/plain": [
       "(5700, 4)"
      ]
     },
     "execution_count": 16,
     "metadata": {},
     "output_type": "execute_result"
    }
   ],
   "source": [
    "Biden_reviews[Biden_reviews['polarity']==0].shape"
   ]
  },
  {
   "cell_type": "code",
   "execution_count": 17,
   "metadata": {},
   "outputs": [
    {
     "name": "stdout",
     "output_type": "stream",
     "text": [
      "(4099, 4)\n",
      "(4300, 4)\n"
     ]
    }
   ],
   "source": [
    "Trump_reviews.drop((Trump_reviews[Trump_reviews['polarity']==0]).index, inplace=True)\n",
    "print(Trump_reviews.shape)\n",
    "Biden_reviews.drop((Biden_reviews[Biden_reviews['polarity']==0]).index, inplace=True)\n",
    "print(Biden_reviews.shape)"
   ]
  },
  {
   "cell_type": "code",
   "execution_count": 18,
   "metadata": {},
   "outputs": [
    {
     "data": {
      "text/html": [
       "<div>\n",
       "<style scoped>\n",
       "    .dataframe tbody tr th:only-of-type {\n",
       "        vertical-align: middle;\n",
       "    }\n",
       "\n",
       "    .dataframe tbody tr th {\n",
       "        vertical-align: top;\n",
       "    }\n",
       "\n",
       "    .dataframe thead th {\n",
       "        text-align: right;\n",
       "    }\n",
       "</style>\n",
       "<table border=\"1\" class=\"dataframe\">\n",
       "  <thead>\n",
       "    <tr style=\"text-align: right;\">\n",
       "      <th></th>\n",
       "      <th>text</th>\n",
       "      <th>user</th>\n",
       "      <th>polarity</th>\n",
       "      <th>Expression</th>\n",
       "    </tr>\n",
       "  </thead>\n",
       "  <tbody>\n",
       "    <tr>\n",
       "      <th>0</th>\n",
       "      <td>RT @itsJeffTiedrich: @realDonaldTrump imagine ...</td>\n",
       "      <td>NikKimmy</td>\n",
       "      <td>-0.200000</td>\n",
       "      <td>Negative</td>\n",
       "    </tr>\n",
       "    <tr>\n",
       "      <th>4</th>\n",
       "      <td>@realDonaldTrump only follows 50 people on Twi...</td>\n",
       "      <td>Yamnek</td>\n",
       "      <td>0.066667</td>\n",
       "      <td>Positive</td>\n",
       "    </tr>\n",
       "    <tr>\n",
       "      <th>7</th>\n",
       "      <td>@realDonaldTrump @POTUS 45 lies again! 45 &amp;amp...</td>\n",
       "      <td>CatherineTrenn</td>\n",
       "      <td>-0.500000</td>\n",
       "      <td>Negative</td>\n",
       "    </tr>\n",
       "    <tr>\n",
       "      <th>8</th>\n",
       "      <td>RT @officialjtw: @realDonaldTrump first vote e...</td>\n",
       "      <td>BNailguy</td>\n",
       "      <td>0.406250</td>\n",
       "      <td>Positive</td>\n",
       "    </tr>\n",
       "    <tr>\n",
       "      <th>10</th>\n",
       "      <td>@realDonaldTrump Vote for the better man: vote...</td>\n",
       "      <td>CharResists</td>\n",
       "      <td>0.500000</td>\n",
       "      <td>Positive</td>\n",
       "    </tr>\n",
       "    <tr>\n",
       "      <th>...</th>\n",
       "      <td>...</td>\n",
       "      <td>...</td>\n",
       "      <td>...</td>\n",
       "      <td>...</td>\n",
       "    </tr>\n",
       "    <tr>\n",
       "      <th>9989</th>\n",
       "      <td>@realDonaldTrump Listen to something other tha...</td>\n",
       "      <td>hedgeswoman</td>\n",
       "      <td>-0.125000</td>\n",
       "      <td>Negative</td>\n",
       "    </tr>\n",
       "    <tr>\n",
       "      <th>9996</th>\n",
       "      <td>@realDonaldTrump make sure you get Biden on re...</td>\n",
       "      <td>BigRfaze</td>\n",
       "      <td>0.250000</td>\n",
       "      <td>Positive</td>\n",
       "    </tr>\n",
       "    <tr>\n",
       "      <th>9997</th>\n",
       "      <td>@realDonaldTrump Trump is crazy.</td>\n",
       "      <td>jennylowdive</td>\n",
       "      <td>-0.600000</td>\n",
       "      <td>Negative</td>\n",
       "    </tr>\n",
       "    <tr>\n",
       "      <th>9998</th>\n",
       "      <td>@realDonaldTrump Little hands, little... Yeah ...</td>\n",
       "      <td>UnusuallySo</td>\n",
       "      <td>-0.125000</td>\n",
       "      <td>Negative</td>\n",
       "    </tr>\n",
       "    <tr>\n",
       "      <th>9999</th>\n",
       "      <td>@realDonaldTrump @senatemajldr @LindseyGrahamS...</td>\n",
       "      <td>Summatimesail</td>\n",
       "      <td>0.191667</td>\n",
       "      <td>Positive</td>\n",
       "    </tr>\n",
       "  </tbody>\n",
       "</table>\n",
       "<p>4099 rows × 4 columns</p>\n",
       "</div>"
      ],
      "text/plain": [
       "                                                   text            user  \\\n",
       "0     RT @itsJeffTiedrich: @realDonaldTrump imagine ...        NikKimmy   \n",
       "4     @realDonaldTrump only follows 50 people on Twi...          Yamnek   \n",
       "7     @realDonaldTrump @POTUS 45 lies again! 45 &amp...  CatherineTrenn   \n",
       "8     RT @officialjtw: @realDonaldTrump first vote e...        BNailguy   \n",
       "10    @realDonaldTrump Vote for the better man: vote...     CharResists   \n",
       "...                                                 ...             ...   \n",
       "9989  @realDonaldTrump Listen to something other tha...     hedgeswoman   \n",
       "9996  @realDonaldTrump make sure you get Biden on re...        BigRfaze   \n",
       "9997                   @realDonaldTrump Trump is crazy.    jennylowdive   \n",
       "9998  @realDonaldTrump Little hands, little... Yeah ...     UnusuallySo   \n",
       "9999  @realDonaldTrump @senatemajldr @LindseyGrahamS...   Summatimesail   \n",
       "\n",
       "      polarity Expression  \n",
       "0    -0.200000   Negative  \n",
       "4     0.066667   Positive  \n",
       "7    -0.500000   Negative  \n",
       "8     0.406250   Positive  \n",
       "10    0.500000   Positive  \n",
       "...        ...        ...  \n",
       "9989 -0.125000   Negative  \n",
       "9996  0.250000   Positive  \n",
       "9997 -0.600000   Negative  \n",
       "9998 -0.125000   Negative  \n",
       "9999  0.191667   Positive  \n",
       "\n",
       "[4099 rows x 4 columns]"
      ]
     },
     "execution_count": 18,
     "metadata": {},
     "output_type": "execute_result"
    }
   ],
   "source": [
    "Trump_reviews"
   ]
  },
  {
   "cell_type": "code",
   "execution_count": 19,
   "metadata": {},
   "outputs": [
    {
     "data": {
      "text/html": [
       "<div>\n",
       "<style scoped>\n",
       "    .dataframe tbody tr th:only-of-type {\n",
       "        vertical-align: middle;\n",
       "    }\n",
       "\n",
       "    .dataframe tbody tr th {\n",
       "        vertical-align: top;\n",
       "    }\n",
       "\n",
       "    .dataframe thead th {\n",
       "        text-align: right;\n",
       "    }\n",
       "</style>\n",
       "<table border=\"1\" class=\"dataframe\">\n",
       "  <thead>\n",
       "    <tr style=\"text-align: right;\">\n",
       "      <th></th>\n",
       "      <th>text</th>\n",
       "      <th>user</th>\n",
       "      <th>polarity</th>\n",
       "      <th>Expression</th>\n",
       "    </tr>\n",
       "  </thead>\n",
       "  <tbody>\n",
       "    <tr>\n",
       "      <th>0</th>\n",
       "      <td>RT @Auxyan: @JoeBiden Like the other Communist...</td>\n",
       "      <td>Auxyan</td>\n",
       "      <td>0.021875</td>\n",
       "      <td>Positive</td>\n",
       "    </tr>\n",
       "    <tr>\n",
       "      <th>1</th>\n",
       "      <td>@JoeBiden Like the other Communist Dictators o...</td>\n",
       "      <td>Auxyan</td>\n",
       "      <td>0.021875</td>\n",
       "      <td>Positive</td>\n",
       "    </tr>\n",
       "    <tr>\n",
       "      <th>2</th>\n",
       "      <td>@JoeBiden How about a statement of Hunter's co...</td>\n",
       "      <td>DenisKaluku</td>\n",
       "      <td>-0.250000</td>\n",
       "      <td>Negative</td>\n",
       "    </tr>\n",
       "    <tr>\n",
       "      <th>5</th>\n",
       "      <td>@JoeBiden Had no idea the 3 strikes rule was t...</td>\n",
       "      <td>assforkr</td>\n",
       "      <td>-0.166667</td>\n",
       "      <td>Negative</td>\n",
       "    </tr>\n",
       "    <tr>\n",
       "      <th>6</th>\n",
       "      <td>@JoeBiden @JoeBiden so awesome</td>\n",
       "      <td>jo_sh_ua_James</td>\n",
       "      <td>1.000000</td>\n",
       "      <td>Positive</td>\n",
       "    </tr>\n",
       "    <tr>\n",
       "      <th>...</th>\n",
       "      <td>...</td>\n",
       "      <td>...</td>\n",
       "      <td>...</td>\n",
       "      <td>...</td>\n",
       "    </tr>\n",
       "    <tr>\n",
       "      <th>9975</th>\n",
       "      <td>RT @ShironRedshift: @JoeBiden Biden's sons wer...</td>\n",
       "      <td>AntarianRani</td>\n",
       "      <td>0.433333</td>\n",
       "      <td>Positive</td>\n",
       "    </tr>\n",
       "    <tr>\n",
       "      <th>9991</th>\n",
       "      <td>@JoeBiden @KamalaHarris :-)</td>\n",
       "      <td>GloriaL93215187</td>\n",
       "      <td>0.500000</td>\n",
       "      <td>Positive</td>\n",
       "    </tr>\n",
       "    <tr>\n",
       "      <th>9994</th>\n",
       "      <td>RT @MTC_CO: @JoeBiden Exactly. Unbelievable th...</td>\n",
       "      <td>linda_lindylou</td>\n",
       "      <td>-0.250000</td>\n",
       "      <td>Negative</td>\n",
       "    </tr>\n",
       "    <tr>\n",
       "      <th>9996</th>\n",
       "      <td>RT @DesnoyersScott: @JoeBiden I will be workin...</td>\n",
       "      <td>rockmanX103</td>\n",
       "      <td>0.400000</td>\n",
       "      <td>Positive</td>\n",
       "    </tr>\n",
       "    <tr>\n",
       "      <th>9997</th>\n",
       "      <td>@JoeBiden Biden is ok with Fracking, Biden is ...</td>\n",
       "      <td>AdamdeCosta4</td>\n",
       "      <td>0.225000</td>\n",
       "      <td>Positive</td>\n",
       "    </tr>\n",
       "  </tbody>\n",
       "</table>\n",
       "<p>4300 rows × 4 columns</p>\n",
       "</div>"
      ],
      "text/plain": [
       "                                                   text             user  \\\n",
       "0     RT @Auxyan: @JoeBiden Like the other Communist...           Auxyan   \n",
       "1     @JoeBiden Like the other Communist Dictators o...           Auxyan   \n",
       "2     @JoeBiden How about a statement of Hunter's co...      DenisKaluku   \n",
       "5     @JoeBiden Had no idea the 3 strikes rule was t...         assforkr   \n",
       "6                        @JoeBiden @JoeBiden so awesome   jo_sh_ua_James   \n",
       "...                                                 ...              ...   \n",
       "9975  RT @ShironRedshift: @JoeBiden Biden's sons wer...     AntarianRani   \n",
       "9991                        @JoeBiden @KamalaHarris :-)  GloriaL93215187   \n",
       "9994  RT @MTC_CO: @JoeBiden Exactly. Unbelievable th...   linda_lindylou   \n",
       "9996  RT @DesnoyersScott: @JoeBiden I will be workin...      rockmanX103   \n",
       "9997  @JoeBiden Biden is ok with Fracking, Biden is ...     AdamdeCosta4   \n",
       "\n",
       "      polarity Expression  \n",
       "0     0.021875   Positive  \n",
       "1     0.021875   Positive  \n",
       "2    -0.250000   Negative  \n",
       "5    -0.166667   Negative  \n",
       "6     1.000000   Positive  \n",
       "...        ...        ...  \n",
       "9975  0.433333   Positive  \n",
       "9991  0.500000   Positive  \n",
       "9994 -0.250000   Negative  \n",
       "9996  0.400000   Positive  \n",
       "9997  0.225000   Positive  \n",
       "\n",
       "[4300 rows x 4 columns]"
      ]
     },
     "execution_count": 19,
     "metadata": {},
     "output_type": "execute_result"
    }
   ],
   "source": [
    "Biden_reviews"
   ]
  },
  {
   "cell_type": "code",
   "execution_count": 23,
   "metadata": {},
   "outputs": [],
   "source": [
    "result = pd.concat([Trump_reviews, Biden_reviews], axis=0)"
   ]
  },
  {
   "cell_type": "code",
   "execution_count": 24,
   "metadata": {},
   "outputs": [
    {
     "data": {
      "text/html": [
       "<div>\n",
       "<style scoped>\n",
       "    .dataframe tbody tr th:only-of-type {\n",
       "        vertical-align: middle;\n",
       "    }\n",
       "\n",
       "    .dataframe tbody tr th {\n",
       "        vertical-align: top;\n",
       "    }\n",
       "\n",
       "    .dataframe thead th {\n",
       "        text-align: right;\n",
       "    }\n",
       "</style>\n",
       "<table border=\"1\" class=\"dataframe\">\n",
       "  <thead>\n",
       "    <tr style=\"text-align: right;\">\n",
       "      <th></th>\n",
       "      <th>text</th>\n",
       "      <th>user</th>\n",
       "      <th>polarity</th>\n",
       "      <th>Expression</th>\n",
       "    </tr>\n",
       "  </thead>\n",
       "  <tbody>\n",
       "    <tr>\n",
       "      <th>0</th>\n",
       "      <td>RT @itsJeffTiedrich: @realDonaldTrump imagine ...</td>\n",
       "      <td>NikKimmy</td>\n",
       "      <td>-0.200000</td>\n",
       "      <td>Negative</td>\n",
       "    </tr>\n",
       "    <tr>\n",
       "      <th>4</th>\n",
       "      <td>@realDonaldTrump only follows 50 people on Twi...</td>\n",
       "      <td>Yamnek</td>\n",
       "      <td>0.066667</td>\n",
       "      <td>Positive</td>\n",
       "    </tr>\n",
       "    <tr>\n",
       "      <th>7</th>\n",
       "      <td>@realDonaldTrump @POTUS 45 lies again! 45 &amp;amp...</td>\n",
       "      <td>CatherineTrenn</td>\n",
       "      <td>-0.500000</td>\n",
       "      <td>Negative</td>\n",
       "    </tr>\n",
       "    <tr>\n",
       "      <th>8</th>\n",
       "      <td>RT @officialjtw: @realDonaldTrump first vote e...</td>\n",
       "      <td>BNailguy</td>\n",
       "      <td>0.406250</td>\n",
       "      <td>Positive</td>\n",
       "    </tr>\n",
       "    <tr>\n",
       "      <th>10</th>\n",
       "      <td>@realDonaldTrump Vote for the better man: vote...</td>\n",
       "      <td>CharResists</td>\n",
       "      <td>0.500000</td>\n",
       "      <td>Positive</td>\n",
       "    </tr>\n",
       "    <tr>\n",
       "      <th>...</th>\n",
       "      <td>...</td>\n",
       "      <td>...</td>\n",
       "      <td>...</td>\n",
       "      <td>...</td>\n",
       "    </tr>\n",
       "    <tr>\n",
       "      <th>9975</th>\n",
       "      <td>RT @ShironRedshift: @JoeBiden Biden's sons wer...</td>\n",
       "      <td>AntarianRani</td>\n",
       "      <td>0.433333</td>\n",
       "      <td>Positive</td>\n",
       "    </tr>\n",
       "    <tr>\n",
       "      <th>9991</th>\n",
       "      <td>@JoeBiden @KamalaHarris :-)</td>\n",
       "      <td>GloriaL93215187</td>\n",
       "      <td>0.500000</td>\n",
       "      <td>Positive</td>\n",
       "    </tr>\n",
       "    <tr>\n",
       "      <th>9994</th>\n",
       "      <td>RT @MTC_CO: @JoeBiden Exactly. Unbelievable th...</td>\n",
       "      <td>linda_lindylou</td>\n",
       "      <td>-0.250000</td>\n",
       "      <td>Negative</td>\n",
       "    </tr>\n",
       "    <tr>\n",
       "      <th>9996</th>\n",
       "      <td>RT @DesnoyersScott: @JoeBiden I will be workin...</td>\n",
       "      <td>rockmanX103</td>\n",
       "      <td>0.400000</td>\n",
       "      <td>Positive</td>\n",
       "    </tr>\n",
       "    <tr>\n",
       "      <th>9997</th>\n",
       "      <td>@JoeBiden Biden is ok with Fracking, Biden is ...</td>\n",
       "      <td>AdamdeCosta4</td>\n",
       "      <td>0.225000</td>\n",
       "      <td>Positive</td>\n",
       "    </tr>\n",
       "  </tbody>\n",
       "</table>\n",
       "<p>8399 rows × 4 columns</p>\n",
       "</div>"
      ],
      "text/plain": [
       "                                                   text             user  \\\n",
       "0     RT @itsJeffTiedrich: @realDonaldTrump imagine ...         NikKimmy   \n",
       "4     @realDonaldTrump only follows 50 people on Twi...           Yamnek   \n",
       "7     @realDonaldTrump @POTUS 45 lies again! 45 &amp...   CatherineTrenn   \n",
       "8     RT @officialjtw: @realDonaldTrump first vote e...         BNailguy   \n",
       "10    @realDonaldTrump Vote for the better man: vote...      CharResists   \n",
       "...                                                 ...              ...   \n",
       "9975  RT @ShironRedshift: @JoeBiden Biden's sons wer...     AntarianRani   \n",
       "9991                        @JoeBiden @KamalaHarris :-)  GloriaL93215187   \n",
       "9994  RT @MTC_CO: @JoeBiden Exactly. Unbelievable th...   linda_lindylou   \n",
       "9996  RT @DesnoyersScott: @JoeBiden I will be workin...      rockmanX103   \n",
       "9997  @JoeBiden Biden is ok with Fracking, Biden is ...     AdamdeCosta4   \n",
       "\n",
       "      polarity Expression  \n",
       "0    -0.200000   Negative  \n",
       "4     0.066667   Positive  \n",
       "7    -0.500000   Negative  \n",
       "8     0.406250   Positive  \n",
       "10    0.500000   Positive  \n",
       "...        ...        ...  \n",
       "9975  0.433333   Positive  \n",
       "9991  0.500000   Positive  \n",
       "9994 -0.250000   Negative  \n",
       "9996  0.400000   Positive  \n",
       "9997  0.225000   Positive  \n",
       "\n",
       "[8399 rows x 4 columns]"
      ]
     },
     "execution_count": 24,
     "metadata": {},
     "output_type": "execute_result"
    }
   ],
   "source": [
    "result"
   ]
  },
  {
   "cell_type": "code",
   "execution_count": 26,
   "metadata": {},
   "outputs": [],
   "source": [
    "df_x=result['text']\n",
    "df_y=result['Expression']"
   ]
  },
  {
   "cell_type": "code",
   "execution_count": 28,
   "metadata": {},
   "outputs": [],
   "source": [
    "import numpy as np \n",
    "import pickle\n",
    "import itertools\n",
    "import pandas as pd\n",
    "from sklearn.model_selection import train_test_split\n",
    "from sklearn.feature_extraction.text import TfidfVectorizer\n",
    "from sklearn.linear_model import PassiveAggressiveClassifier\n",
    "from sklearn.metrics import accuracy_score, confusion_matrix"
   ]
  },
  {
   "cell_type": "code",
   "execution_count": 29,
   "metadata": {},
   "outputs": [],
   "source": [
    "tfidf_vectorizer = TfidfVectorizer(stop_words='english', max_df=0.7)"
   ]
  },
  {
   "cell_type": "code",
   "execution_count": 30,
   "metadata": {},
   "outputs": [],
   "source": [
    "from sklearn.feature_extraction.text import TfidfVectorizer\n",
    "tfidf_vectorizer= TfidfVectorizer(min_df=1,stop_words='english')"
   ]
  },
  {
   "cell_type": "code",
   "execution_count": 32,
   "metadata": {},
   "outputs": [],
   "source": [
    "tfidf_train = tfidf_vectorizer.fit_transform(df_x) "
   ]
  },
  {
   "cell_type": "code",
   "execution_count": 33,
   "metadata": {},
   "outputs": [
    {
     "data": {
      "text/plain": [
       "PassiveAggressiveClassifier(C=1.0, average=False, class_weight=None,\n",
       "                            early_stopping=False, fit_intercept=True,\n",
       "                            loss='hinge', max_iter=50, n_iter_no_change=5,\n",
       "                            n_jobs=None, random_state=None, shuffle=True,\n",
       "                            tol=0.001, validation_fraction=0.1, verbose=0,\n",
       "                            warm_start=False)"
      ]
     },
     "execution_count": 33,
     "metadata": {},
     "output_type": "execute_result"
    }
   ],
   "source": [
    "pac = PassiveAggressiveClassifier(max_iter=50)\n",
    "pac.fit(tfidf_train,df_y)"
   ]
  },
  {
   "cell_type": "code",
   "execution_count": null,
   "metadata": {},
   "outputs": [],
   "source": []
  }
 ],
 "metadata": {
  "kernelspec": {
   "display_name": "Python 3",
   "language": "python",
   "name": "python3"
  },
  "language_info": {
   "codemirror_mode": {
    "name": "ipython",
    "version": 3
   },
   "file_extension": ".py",
   "mimetype": "text/x-python",
   "name": "python",
   "nbconvert_exporter": "python",
   "pygments_lexer": "ipython3",
   "version": "3.7.0"
  }
 },
 "nbformat": 4,
 "nbformat_minor": 4
}
